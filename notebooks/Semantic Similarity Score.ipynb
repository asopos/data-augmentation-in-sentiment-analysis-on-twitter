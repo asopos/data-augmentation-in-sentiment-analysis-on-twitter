{
 "cells": [
  {
   "cell_type": "code",
   "execution_count": 1,
   "metadata": {
    "collapsed": true
   },
   "outputs": [
    {
     "name": "stdout",
     "output_type": "stream",
     "text": [
      "The Semantic Similarity Score between the sentences is: 0.8574806451797485\n"
     ]
    }
   ],
   "source": [
    "import tensorflow_hub as hub\n",
    "import numpy as np\n",
    "\n",
    "# Load Universal Sentence Encoder model\n",
    "embed = hub.load(\"https://tfhub.dev/google/universal-sentence-encoder/4\")\n",
    "\n",
    "def semantic_similarity(original_tweet, synthetic_tweet):\n",
    "    original_embedding = embed([original_tweet])\n",
    "    synthetic_embedding =embed([synthetic_tweet])\n",
    "\n",
    "    return np.inner(original_embedding, synthetic_embedding)[0][0]\n"
   ]
  },
  {
   "cell_type": "code",
   "execution_count": 2,
   "outputs": [
    {
     "data": {
      "text/plain": "   Unnamed: 0                  ID     Label  \\\n0           0  619950566786113536   neutral   \n1           1  619971047195045888  negative   \n2           2  619994586182619136  positive   \n3           3  620015649151021056   neutral   \n4           4  620067692066828288  negative   \n\n                                               Tweet  \\\n0  Picturehouse's, Pink Floyd's, 'Roger Waters: T...   \n1  If these runway renovations at the airport pre...   \n2  Excited to read \"Go Set a Watchman\" on Tuesday...   \n3  Trump said June 30th that he'd be at Miss USA ...   \n4  Bad Blood may have the absolute worst lyricism...   \n\n                                         Tweet_Token  \\\n0  [\"Picturehouse's\", ',', 'Pink', \"Floyd's\", ','...   \n1  ['If', 'runway', 'renovations', 'airport', 'pr...   \n2  ['Excited', 'read', '\"', 'Go', 'Set', 'Watchma...   \n3  ['Trump', 'said', 'June', '30th', \"he'd\", 'Mis...   \n4  ['Bad', 'Blood', 'may', 'absolute', 'worst', '...   \n\n                                         synthetic 0  \\\n0  Picturehouse's , rap Floyd's , ' Roger water_s...   \n1  If rails refurbishment drome preclude check Ta...   \n2  energize say \" pass pose watcher \" Tuesday . o...   \n3  best state June 30th he'd overlook America pag...   \n4  big stemma Crataegus_laevigata rank mop_up lyr...   \n\n                                         synthetic 1  \\\n0  Picturehouse's , garden_pink Floyd's , ' Roger...   \n1  If rails redevelopment aerodrome prevent run_a...   \n2  mad read \" start dress watchman \" Tues . simpl...   \n3  trump suppose June 30th he'd drop America page...   \n4  unfit lineage English_hawthorn downright regre...   \n\n                                         synthetic 2  \\\n0  Picturehouse's , pinko Floyd's , ' Roger urine...   \n1  If runway restoration airdrome keep run_into T...   \n2  wind_up say \" live hardened watchman \" Tues . ...   \n3  horn state June 30th he'd misfire United_State...   \n4  badly lineage may sheer unfit lyricism I've ev...   \n\n                                         synthetic 3  \\\n0  Picturehouse's , pinko Floyd's , ' Roger water...   \n1  If rails overhaul airdrome forestall catch Eli...   \n2  energize register \" XTC determined watcher \" T...   \n3  cornet articulate June thirtieth he'd pretermi...   \n4  uncollectible origin May sheer unfit songfulne...   \n\n                                         synthetic 4  \\\n0  Picturehouse's , pinkish Floyd's , ' Roger wat...   \n1  If rails refurbishment airdrome foreclose envi...   \n2  activated learn \" run_low set_up watchman \" Tu...   \n3  outdo pronounce June 30th he'd lose USA pagean...   \n4  sorry pedigree May rank defective lyricism I'v...   \n\n                                         synthetic 5  \\\n0  Picturehouse's , rap Floyd's , ' Roger irrigat...   \n1  If track redevelopment airport preclude contro...   \n2  excited say \" function go_under security_guard...   \n3  trump_out said June 30th he'd young_woman Unit...   \n4  speculative bloodline English_hawthorn infrang...   \n\n                                         synthetic 6  \\\n0  Picturehouse's , ping Floyd's , ' Roger waters...   \n1  If runway refurbishment airport preclude exper...   \n2  commove read \" spell countersink watcher \" Tue...   \n3  trump_card aforesaid June thirtieth he'd escap...   \n4  big blood May right-down mop_up lyricality I'v...   \n\n                                         synthetic 7  \\\n0  Picturehouse's , garden_pink Floyd's , ' Roger...   \n1  If track redevelopment airport forbid examine ...   \n2  mad record \" get set_up watchman \" Tues . mere...   \n3  trumpet enjoin June 30th he'd lack the_States ...   \n4  speculative origin English_hawthorn sheer spoi...   \n\n                                         synthetic 8  \\\n0  Picturehouse's , knock Floyd's , ' Roger H2O :...   \n1  If track redevelopment airport forbid interpre...   \n2  energize understand \" live_on mark watchman \" ...   \n3  trump_card aforesaid June 30th he'd miss Army ...   \n4  badly blood_line English_hawthorn absolute rac...   \n\n                                         synthetic 9  \n0  Picturehouse's , pinkish Floyd's , ' Roger wat...  \n1  If runway renovation airdrome foreclose encoun...  \n2  excited read \" give-up_the_ghost rigid watcher...  \n3  trump order June 30th he'd lose US_Army pagean...  \n4  unfit blood Crataegus_laevigata sheer worst ly...  ",
      "text/html": "<div>\n<style scoped>\n    .dataframe tbody tr th:only-of-type {\n        vertical-align: middle;\n    }\n\n    .dataframe tbody tr th {\n        vertical-align: top;\n    }\n\n    .dataframe thead th {\n        text-align: right;\n    }\n</style>\n<table border=\"1\" class=\"dataframe\">\n  <thead>\n    <tr style=\"text-align: right;\">\n      <th></th>\n      <th>Unnamed: 0</th>\n      <th>ID</th>\n      <th>Label</th>\n      <th>Tweet</th>\n      <th>Tweet_Token</th>\n      <th>synthetic 0</th>\n      <th>synthetic 1</th>\n      <th>synthetic 2</th>\n      <th>synthetic 3</th>\n      <th>synthetic 4</th>\n      <th>synthetic 5</th>\n      <th>synthetic 6</th>\n      <th>synthetic 7</th>\n      <th>synthetic 8</th>\n      <th>synthetic 9</th>\n    </tr>\n  </thead>\n  <tbody>\n    <tr>\n      <th>0</th>\n      <td>0</td>\n      <td>619950566786113536</td>\n      <td>neutral</td>\n      <td>Picturehouse's, Pink Floyd's, 'Roger Waters: T...</td>\n      <td>[\"Picturehouse's\", ',', 'Pink', \"Floyd's\", ','...</td>\n      <td>Picturehouse's , rap Floyd's , ' Roger water_s...</td>\n      <td>Picturehouse's , garden_pink Floyd's , ' Roger...</td>\n      <td>Picturehouse's , pinko Floyd's , ' Roger urine...</td>\n      <td>Picturehouse's , pinko Floyd's , ' Roger water...</td>\n      <td>Picturehouse's , pinkish Floyd's , ' Roger wat...</td>\n      <td>Picturehouse's , rap Floyd's , ' Roger irrigat...</td>\n      <td>Picturehouse's , ping Floyd's , ' Roger waters...</td>\n      <td>Picturehouse's , garden_pink Floyd's , ' Roger...</td>\n      <td>Picturehouse's , knock Floyd's , ' Roger H2O :...</td>\n      <td>Picturehouse's , pinkish Floyd's , ' Roger wat...</td>\n    </tr>\n    <tr>\n      <th>1</th>\n      <td>1</td>\n      <td>619971047195045888</td>\n      <td>negative</td>\n      <td>If these runway renovations at the airport pre...</td>\n      <td>['If', 'runway', 'renovations', 'airport', 'pr...</td>\n      <td>If rails refurbishment drome preclude check Ta...</td>\n      <td>If rails redevelopment aerodrome prevent run_a...</td>\n      <td>If runway restoration airdrome keep run_into T...</td>\n      <td>If rails overhaul airdrome forestall catch Eli...</td>\n      <td>If rails refurbishment airdrome foreclose envi...</td>\n      <td>If track redevelopment airport preclude contro...</td>\n      <td>If runway refurbishment airport preclude exper...</td>\n      <td>If track redevelopment airport forbid examine ...</td>\n      <td>If track redevelopment airport forbid interpre...</td>\n      <td>If runway renovation airdrome foreclose encoun...</td>\n    </tr>\n    <tr>\n      <th>2</th>\n      <td>2</td>\n      <td>619994586182619136</td>\n      <td>positive</td>\n      <td>Excited to read \"Go Set a Watchman\" on Tuesday...</td>\n      <td>['Excited', 'read', '\"', 'Go', 'Set', 'Watchma...</td>\n      <td>energize say \" pass pose watcher \" Tuesday . o...</td>\n      <td>mad read \" start dress watchman \" Tues . simpl...</td>\n      <td>wind_up say \" live hardened watchman \" Tues . ...</td>\n      <td>energize register \" XTC determined watcher \" T...</td>\n      <td>activated learn \" run_low set_up watchman \" Tu...</td>\n      <td>excited say \" function go_under security_guard...</td>\n      <td>commove read \" spell countersink watcher \" Tue...</td>\n      <td>mad record \" get set_up watchman \" Tues . mere...</td>\n      <td>energize understand \" live_on mark watchman \" ...</td>\n      <td>excited read \" give-up_the_ghost rigid watcher...</td>\n    </tr>\n    <tr>\n      <th>3</th>\n      <td>3</td>\n      <td>620015649151021056</td>\n      <td>neutral</td>\n      <td>Trump said June 30th that he'd be at Miss USA ...</td>\n      <td>['Trump', 'said', 'June', '30th', \"he'd\", 'Mis...</td>\n      <td>best state June 30th he'd overlook America pag...</td>\n      <td>trump suppose June 30th he'd drop America page...</td>\n      <td>horn state June 30th he'd misfire United_State...</td>\n      <td>cornet articulate June thirtieth he'd pretermi...</td>\n      <td>outdo pronounce June 30th he'd lose USA pagean...</td>\n      <td>trump_out said June 30th he'd young_woman Unit...</td>\n      <td>trump_card aforesaid June thirtieth he'd escap...</td>\n      <td>trumpet enjoin June 30th he'd lack the_States ...</td>\n      <td>trump_card aforesaid June 30th he'd miss Army ...</td>\n      <td>trump order June 30th he'd lose US_Army pagean...</td>\n    </tr>\n    <tr>\n      <th>4</th>\n      <td>4</td>\n      <td>620067692066828288</td>\n      <td>negative</td>\n      <td>Bad Blood may have the absolute worst lyricism...</td>\n      <td>['Bad', 'Blood', 'may', 'absolute', 'worst', '...</td>\n      <td>big stemma Crataegus_laevigata rank mop_up lyr...</td>\n      <td>unfit lineage English_hawthorn downright regre...</td>\n      <td>badly lineage may sheer unfit lyricism I've ev...</td>\n      <td>uncollectible origin May sheer unfit songfulne...</td>\n      <td>sorry pedigree May rank defective lyricism I'v...</td>\n      <td>speculative bloodline English_hawthorn infrang...</td>\n      <td>big blood May right-down mop_up lyricality I'v...</td>\n      <td>speculative origin English_hawthorn sheer spoi...</td>\n      <td>badly blood_line English_hawthorn absolute rac...</td>\n      <td>unfit blood Crataegus_laevigata sheer worst ly...</td>\n    </tr>\n  </tbody>\n</table>\n</div>"
     },
     "execution_count": 2,
     "metadata": {},
     "output_type": "execute_result"
    }
   ],
   "source": [
    "import pandas as pd\n",
    "\n",
    "synthetic_data = pd.read_csv(\"../output/synthetic-tweets.csv\")\n"
   ],
   "metadata": {
    "collapsed": false
   }
  },
  {
   "cell_type": "code",
   "execution_count": null,
   "outputs": [],
   "source": [],
   "metadata": {
    "collapsed": false
   }
  }
 ],
 "metadata": {
  "kernelspec": {
   "display_name": "Python 3",
   "language": "python",
   "name": "python3"
  },
  "language_info": {
   "codemirror_mode": {
    "name": "ipython",
    "version": 2
   },
   "file_extension": ".py",
   "mimetype": "text/x-python",
   "name": "python",
   "nbconvert_exporter": "python",
   "pygments_lexer": "ipython2",
   "version": "2.7.6"
  }
 },
 "nbformat": 4,
 "nbformat_minor": 0
}
