{
 "cells": [
  {
   "cell_type": "code",
   "execution_count": null,
   "metadata": {
    "collapsed": true
   },
   "outputs": [],
   "source": [
    "import pandas as pd\n",
    "\n",
    "data =pd.read_csv(\n",
    "    filepath_or_buffer='../data/test.csv',\n",
    "    sep='\\t',\n",
    "    encoding='utf8',\n",
    "    names=[\"ID\", \"Label\", \"Tweet\"]\n",
    "    )\n"
   ]
  },
  {
   "cell_type": "code",
   "execution_count": null,
   "outputs": [],
   "source": [
    "from nltk.corpus import wordnet, stopwords\n",
    "from nltk.tokenize import TweetTokenizer\n",
    "import numpy as np\n",
    "\n",
    "tk = TweetTokenizer()\n",
    "stop_words = set(stopwords.words('english'))\n",
    "\n",
    "def token_pipeline(tweet):\n",
    "    tweet_tokens = tk.tokenize(tweet)\n",
    "    # filter(lambda token: token not in stop_words, tweet_tokens)\n",
    "    tweet_token_without_stopwords = list(tweet_tokens)\n",
    "    return tweet_token_without_stopwords\n",
    "\n",
    "data[\"Tweet_Token\"] = data[\"Tweet\"].apply(token_pipeline)\n",
    "\n",
    "data = pd.DataFrame(np.repeat(data.values, 5, axis=0), columns=data.columns)\n",
    "data"
   ],
   "metadata": {
    "collapsed": false
   }
  },
  {
   "cell_type": "code",
   "execution_count": null,
   "outputs": [],
   "source": [
    "import random\n",
    "\n",
    "def create_synthetic_tweet_synonyms(tweet):\n",
    "    tweet_synonyms = []\n",
    "    for token in tweet:\n",
    "        word_synonyms=[]\n",
    "        for word_synonym in wordnet.synsets(token):\n",
    "            for word_lemma in word_synonym.lemmas():\n",
    "                word_synonyms.append(word_lemma.name())\n",
    "        if word_synonyms:\n",
    "            tweet_synonyms.append(random.choice(list(set(word_synonyms))))\n",
    "        else:\n",
    "            tweet_synonyms.append(token)\n",
    "\n",
    "    return \" \".join(tweet_synonyms)\n",
    "\n",
    "data[\"Synonyms_Synthetic\"] = data[\"Tweet_Token\"].apply(lambda tweet: create_synthetic_tweet_synonyms(tweet))\n",
    "\n",
    "data[[\"Tweet\", \"Synonyms_Synthetic\", \"Tweet_Token\"]]"
   ],
   "metadata": {
    "collapsed": false
   }
  },
  {
   "cell_type": "code",
   "execution_count": null,
   "outputs": [],
   "source": [
    "from gensim.models import fasttext\n",
    "\n",
    "\n",
    "fasttext_model = fasttext.load_facebook_model(path=\"H:\\\\wiki.simple.bin\")\n"
   ],
   "metadata": {
    "collapsed": false
   }
  },
  {
   "cell_type": "code",
   "execution_count": null,
   "outputs": [],
   "source": [
    "import numpy as np\n",
    "\n",
    "\n",
    "def create_synthetic_tweet_word_embeddings(tokens, model, percentage=0.2):\n",
    "    snyth_token = []\n",
    "    num_words_to_replace = int(len(tokens) * percentage)\n",
    "    words_to_replace = random.sample(range(len(tokens)), num_words_to_replace)\n",
    "\n",
    "    for idx in words_to_replace:\n",
    "        word = tokens[idx]\n",
    "        similar_words = model.wv.most_similar(word, topn=6)\n",
    "        similar_words = [w for w, _ in similar_words if w.lower() != word.lower()]\n",
    "\n",
    "        if similar_words:\n",
    "            new_word = np.random.choice(similar_words)\n",
    "            snyth_token.append(new_word)\n",
    "            continue\n",
    "        snyth_token.append(tokens[idx])\n",
    "    return \" \".join(snyth_token)\n",
    "\n",
    "data[\"fasttext_Synthetic\"] = data[\"Tweet_Token\"].apply(lambda tweet: create_synthetic_tweet_word_embeddings(tweet, fasttext_model, percentage=1))\n",
    "data[[\"Tweet_Token\", \"fasttext_Synthetic\"]]"
   ],
   "metadata": {
    "collapsed": false
   }
  },
  {
   "cell_type": "code",
   "execution_count": null,
   "outputs": [],
   "source": [
    "import torch\n",
    "from transformers import GPT2LMHeadModel, GPT2Tokenizer\n",
    "\n",
    "model_name = \"gpt2\"\n",
    "tokenizer = GPT2Tokenizer.from_pretrained(model_name)\n",
    "model = GPT2LMHeadModel.from_pretrained(model_name)\n",
    "\n",
    "def generate_sentence(tweet_token, seed_percent=0.5):\n",
    "    # Set the pad_token to be the same as the eos_token\n",
    "    length_of_seed_tokens = int(len(tweet_token) * seed_percent)\n",
    "    seed = \" \".join(tweet_token[0:length_of_seed_tokens])\n",
    "\n",
    "    tokenizer.pad_token = tokenizer.eos_token\n",
    "    input_text = tokenizer.encode(seed, return_tensors=\"pt\", padding=True)\n",
    "    attention_mask = torch.ones_like(input_text)\n",
    "    #attention_mask = (input_text != tokenizer.pad_token_id).float()\n",
    "    output = model.generate(input_text, max_length=70, num_return_sequences=1, do_sample=True, temperature=0.7,\n",
    "                                attention_mask=attention_mask)\n",
    "    generated_text = tokenizer.decode(output[0], skip_special_tokens=True)\n",
    "\n",
    "    return generated_text\n",
    "\n",
    "data[\"GPT2_Synthetic\"] = data[\"Tweet_Token\"].apply(lambda tweet_tokens: generate_sentence(tweet_tokens))\n",
    "data[[\"Tweet_Token\", \"GPT2_Synthetic\"]]"
   ],
   "metadata": {
    "collapsed": false
   }
  },
  {
   "cell_type": "code",
   "execution_count": null,
   "outputs": [],
   "source": [
    "from transformers import MarianMTModel, MarianTokenizer\n",
    "\n",
    "tgt_languages = [\"fr\", \"de\", \"jap\"]\n",
    "# Load forward and backward models and tokenizers\n",
    "\n",
    "def back_translate(text, forw_tokenizer, forw_model, backw_tokenizer, backw_model):\n",
    "    # Perform forward translation\n",
    "    print(f\"Starting Back Translation to \")\n",
    "    forward_input = forw_tokenizer.encode(text, return_tensors=\"pt\")\n",
    "    forward_output = forw_model.generate(forward_input)\n",
    "    forward_translation = forw_tokenizer.decode(forward_output[0], skip_special_tokens=True)\n",
    "\n",
    "    # Perform backward translation\n",
    "    backward_input = backw_tokenizer.encode(forward_translation, return_tensors=\"pt\")\n",
    "    backward_output = backw_model.generate(backward_input)\n",
    "    backward_translation = backw_tokenizer.decode(backward_output[0], skip_special_tokens=True)\n",
    "\n",
    "    return backward_translation\n",
    "\n",
    "for tgt_lang in tgt_languages:\n",
    "    forward_model_name = f'Helsinki-NLP/opus-mt-en-{tgt_lang}'\n",
    "    backward_model_name = f'Helsinki-NLP/opus-mt-{tgt_lang}-en'\n",
    "    forward_tokenizer = MarianTokenizer.from_pretrained(forward_model_name)\n",
    "    forward_model = MarianMTModel.from_pretrained(forward_model_name)\n",
    "    backward_tokenizer = MarianTokenizer.from_pretrained(backward_model_name)\n",
    "    backward_model = MarianMTModel.from_pretrained(backward_model_name)\n",
    "    data[f\"{tgt_lang} Back_Translate_Synthetic\"] = data[\"Tweet\"].apply(lambda tweet: back_translate(tweet,forward_tokenizer, forward_model, backward_tokenizer, backward_model))\n",
    "    data[[\"Tweet\", \"Back_Translate_Synthetic\"]]\n"
   ],
   "metadata": {
    "collapsed": false
   }
  },
  {
   "cell_type": "code",
   "execution_count": null,
   "outputs": [],
   "source": [
    "import tensorflow_hub as hub\n",
    "import Levenshtein\n",
    "import numpy as np\n",
    "\n",
    "embed = hub.load(\"https://tfhub.dev/google/universal-sentence-encoder/4\")\n",
    "\n",
    "def semantic_similarity(original_tweet, synthetic_tweet):\n",
    "    original_embedding = embed([original_tweet])\n",
    "    synthetic_embedding =embed([synthetic_tweet])\n",
    "\n",
    "    return np.inner(original_embedding, synthetic_embedding)[0][0]\n",
    "\n",
    "data[\"Synonyms_Sim_Score\"] = data[[\"Tweet\", \"Synonyms_Synthetic\"]].apply(lambda x: semantic_similarity(x[\"Tweet\"], x[\"Synonyms_Synthetic\"]), axis=1)\n",
    "data[\"Synonyms_Levenshtein_Score\"] = data[[\"Tweet\", \"Synonyms_Synthetic\"]].apply(lambda x: Levenshtein.distance(x[\"Tweet\"], x[\"Synonyms_Synthetic\"]), axis=1)\n",
    "\n",
    "data[\"fasttext_Sim_Score\"] = data[[\"Tweet\", \"fasttext_Synthetic\"]].apply(lambda x: semantic_similarity(x[\"Tweet\"], x[\"fasttext_Synthetic\"]), axis=1)\n",
    "data[\"fasttext_Levenshtein_Score\"] = data[[\"Tweet\", \"fasttext_Synthetic\"]].apply(lambda x: Levenshtein.distance(x[\"Tweet\"], x[\"fasttext_Synthetic\"]), axis=1)\n",
    "\n",
    "data[\"GPT2_Sim_Score\"] = data[[\"Tweet\", \"GPT2_Synthetic\"]].apply(lambda x: semantic_similarity(x[\"Tweet\"], x[\"GPT2_Synthetic\"]), axis=1)\n",
    "data[\"GPT2_Levenshtein_Score\"] =  data[[\"Tweet\", \"GPT2_Synthetic\"]].apply(lambda x: Levenshtein.distance(x[\"Tweet\"], x[\"GPT2_Synthetic\"]), axis=1)\n",
    "for lang in tgt_languages:\n",
    "    data[f\"{lang} Back_Translate_Synthetic_Sim_Score\"] = data[[\"Tweet\", f\"{lang} Back_Translate_Synthetic\"]].apply(lambda x: semantic_similarity(x[\"Tweet\"], x[f\"{lang} Back_Translate_Synthetic\"]), axis=1)\n",
    "    data[f\"{lang} Back_Translate_Synthetic_Levenshtein_Score\"] = data[[\"Tweet\", f\"{lang} Back_Translate_Synthetic\"]].apply(lambda x: Levenshtein.distance(x[\"Tweet\"], x[f\"{lang} Back_Translate_Synthetic\"]), axis=1)"
   ],
   "metadata": {
    "collapsed": false
   }
  },
  {
   "cell_type": "code",
   "execution_count": null,
   "outputs": [],
   "source": [
    "data.to_csv('../output/synth-output-GP2.csv')"
   ],
   "metadata": {
    "collapsed": false
   }
  },
  {
   "cell_type": "code",
   "execution_count": null,
   "outputs": [],
   "source": [],
   "metadata": {
    "collapsed": false
   }
  }
 ],
 "metadata": {
  "kernelspec": {
   "display_name": "Python 3",
   "language": "python",
   "name": "python3"
  },
  "language_info": {
   "codemirror_mode": {
    "name": "ipython",
    "version": 2
   },
   "file_extension": ".py",
   "mimetype": "text/x-python",
   "name": "python",
   "nbconvert_exporter": "python",
   "pygments_lexer": "ipython2",
   "version": "2.7.6"
  }
 },
 "nbformat": 4,
 "nbformat_minor": 0
}
