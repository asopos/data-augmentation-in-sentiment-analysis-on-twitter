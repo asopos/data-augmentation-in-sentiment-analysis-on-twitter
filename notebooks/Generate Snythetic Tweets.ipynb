{
 "cells": [
  {
   "cell_type": "code",
   "execution_count": null,
   "metadata": {
    "collapsed": true
   },
   "outputs": [],
   "source": [
    "import pandas as pd\n",
    "\n",
    "data =pd.read_csv(\n",
    "    filepath_or_buffer='../data/test.csv',\n",
    "    sep='\\t',\n",
    "    encoding='utf8',\n",
    "    names=[\"ID\", \"Label\", \"Tweet\"]\n",
    "    )\n"
   ]
  },
  {
   "cell_type": "code",
   "execution_count": null,
   "outputs": [],
   "source": [
    "from nltk.corpus import wordnet, stopwords\n",
    "from nltk.tokenize import TweetTokenizer\n",
    "import numpy as np\n",
    "\n",
    "tk = TweetTokenizer()\n",
    "stop_words = set(stopwords.words('english'))\n",
    "\n",
    "def token_pipeline(tweet):\n",
    "    tweet_tokens = tk.tokenize(tweet)\n",
    "    # filter(lambda token: token not in stop_words, tweet_tokens)\n",
    "    tweet_token_without_stopwords = list(tweet_tokens)\n",
    "    return tweet_token_without_stopwords\n",
    "\n",
    "data[\"Tweet_Token\"] = data[\"Tweet\"].apply(token_pipeline)\n",
    "\n",
    "data = pd.DataFrame(np.repeat(data.values, 5, axis=0), columns=data.columns)\n",
    "data"
   ],
   "metadata": {
    "collapsed": false
   }
  },
  {
   "cell_type": "code",
   "execution_count": null,
   "outputs": [],
   "source": [
    "import random\n",
    "\n",
    "def create_synthetic_tweet_synonyms(tweet):\n",
    "    tweet_synonyms = []\n",
    "    for token in tweet:\n",
    "        word_synonyms=[]\n",
    "        for word_synonym in wordnet.synsets(token):\n",
    "            for word_lemma in word_synonym.lemmas():\n",
    "                word_synonyms.append(word_lemma.name())\n",
    "        if word_synonyms:\n",
    "            tweet_synonyms.append(random.choice(list(set(word_synonyms))))\n",
    "        else:\n",
    "            tweet_synonyms.append(token)\n",
    "\n",
    "    return \" \".join(tweet_synonyms)\n",
    "\n",
    "data[\"Synonyms_Synthetic\"] = data[\"Tweet_Token\"].apply(lambda tweet: create_synthetic_tweet_synonyms(tweet))\n",
    "\n",
    "data[[\"Tweet\", \"Synonyms_Synthetic\", \"Tweet_Token\"]]"
   ],
   "metadata": {
    "collapsed": false
   }
  },
  {
   "cell_type": "code",
   "execution_count": null,
   "outputs": [],
   "source": [
    "from gensim.models import fasttext\n",
    "\n",
    "\n",
    "fasttext_model = fasttext.load_facebook_model(path=\"H:\\\\wiki.simple.bin\")\n"
   ],
   "metadata": {
    "collapsed": false
   }
  },
  {
   "cell_type": "code",
   "execution_count": null,
   "outputs": [],
   "source": [
    "import numpy as np\n",
    "\n",
    "\n",
    "def create_synthetic_tweet_word_embeddings(tokens, model, percentage=0.2):\n",
    "    snyth_token = []\n",
    "    num_words_to_replace = int(len(tokens) * percentage)\n",
    "    words_to_replace = random.sample(range(len(tokens)), num_words_to_replace)\n",
    "\n",
    "    for idx in words_to_replace:\n",
    "        word = tokens[idx]\n",
    "        similar_words = model.wv.most_similar(word, topn=6)\n",
    "        similar_words = [w for w, _ in similar_words if w.lower() != word.lower()]\n",
    "\n",
    "        if similar_words:\n",
    "            new_word = np.random.choice(similar_words)\n",
    "            snyth_token.append(new_word)\n",
    "            continue\n",
    "        snyth_token.append(tokens[idx])\n",
    "    return \" \".join(snyth_token)\n",
    "\n",
    "data[\"fasttext_Synthetic\"] = data[\"Tweet_Token\"].apply(lambda tweet: create_synthetic_tweet_word_embeddings(tweet, fasttext_model, percentage=1))\n",
    "data[[\"Tweet_Token\", \"fasttext_Synthetic\"]]"
   ],
   "metadata": {
    "collapsed": false
   }
  },
  {
   "cell_type": "code",
   "execution_count": null,
   "outputs": [],
   "source": [
    "import tensorflow_hub as hub\n",
    "import Levenshtein\n",
    "\n",
    "embed = hub.load(\"https://tfhub.dev/google/universal-sentence-encoder/4\")\n",
    "\n",
    "def semantic_similarity(original_tweet, synthetic_tweet):\n",
    "    original_embedding = embed([original_tweet])\n",
    "    synthetic_embedding =embed([synthetic_tweet])\n",
    "\n",
    "    return np.inner(original_embedding, synthetic_embedding)[0][0]\n",
    "\n",
    "data[\"Synonyms_Sim_Score\"] = data[[\"Tweet\", \"Synonyms_Synthetic\"]].apply(lambda X: semantic_similarity(X[\"Tweet\"], X[\"Synonyms_Synthetic\"]), axis=1)\n",
    "data[\"Synonyms_Levenshtein_Score\"] = data[[\"Tweet\", \"Synonyms_Synthetic\"]].apply(lambda X: Levenshtein.distance(X[\"Tweet\"], X[\"Synonyms_Synthetic\"]), axis=1)\n",
    "\n",
    "data[\"fasttext_Sim_Score\"] = data[[\"Tweet\", \"fasttext_Synthetic\"]].apply(lambda X: semantic_similarity(X[\"Tweet\"], X[\"fasttext_Synthetic\"]), axis=1)\n",
    "data[\"fasttext_Levenshtein_Score\"] = data[[\"Tweet\", \"fasttext_Synthetic\"]].apply(lambda X: Levenshtein.distance(X[\"Tweet\"], X[\"fasttext_Synthetic\"]), axis=1)"
   ],
   "metadata": {
    "collapsed": false
   }
  },
  {
   "cell_type": "code",
   "execution_count": null,
   "outputs": [],
   "source": [
    "data.to_csv('../output/synth-output_new.csv')"
   ],
   "metadata": {
    "collapsed": false
   }
  }
 ],
 "metadata": {
  "kernelspec": {
   "display_name": "Python 3",
   "language": "python",
   "name": "python3"
  },
  "language_info": {
   "codemirror_mode": {
    "name": "ipython",
    "version": 2
   },
   "file_extension": ".py",
   "mimetype": "text/x-python",
   "name": "python",
   "nbconvert_exporter": "python",
   "pygments_lexer": "ipython2",
   "version": "2.7.6"
  }
 },
 "nbformat": 4,
 "nbformat_minor": 0
}
