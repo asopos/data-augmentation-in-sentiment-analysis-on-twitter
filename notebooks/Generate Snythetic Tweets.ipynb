{
 "cells": [
  {
   "cell_type": "code",
   "execution_count": 5,
   "metadata": {
    "collapsed": true
   },
   "outputs": [
    {
     "data": {
      "text/plain": "                   ID     Label  \\\n0  619950566786113536   neutral   \n1  619971047195045888  negative   \n2  619994586182619136  positive   \n3  620015649151021056   neutral   \n4  620067692066828288  negative   \n5  620063502682599425  positive   \n\n                                               Tweet  \n0  Picturehouse's, Pink Floyd's, 'Roger Waters: T...  \n1  If these runway renovations at the airport pre...  \n2  Excited to read \"Go Set a Watchman\" on Tuesday...  \n3  Trump said June 30th that he'd be at Miss USA ...  \n4  Bad Blood may have the absolute worst lyricism...  \n5  No. It's okay. You can go attend Miss USA! Tru...  ",
      "text/html": "<div>\n<style scoped>\n    .dataframe tbody tr th:only-of-type {\n        vertical-align: middle;\n    }\n\n    .dataframe tbody tr th {\n        vertical-align: top;\n    }\n\n    .dataframe thead th {\n        text-align: right;\n    }\n</style>\n<table border=\"1\" class=\"dataframe\">\n  <thead>\n    <tr style=\"text-align: right;\">\n      <th></th>\n      <th>ID</th>\n      <th>Label</th>\n      <th>Tweet</th>\n    </tr>\n  </thead>\n  <tbody>\n    <tr>\n      <th>0</th>\n      <td>619950566786113536</td>\n      <td>neutral</td>\n      <td>Picturehouse's, Pink Floyd's, 'Roger Waters: T...</td>\n    </tr>\n    <tr>\n      <th>1</th>\n      <td>619971047195045888</td>\n      <td>negative</td>\n      <td>If these runway renovations at the airport pre...</td>\n    </tr>\n    <tr>\n      <th>2</th>\n      <td>619994586182619136</td>\n      <td>positive</td>\n      <td>Excited to read \"Go Set a Watchman\" on Tuesday...</td>\n    </tr>\n    <tr>\n      <th>3</th>\n      <td>620015649151021056</td>\n      <td>neutral</td>\n      <td>Trump said June 30th that he'd be at Miss USA ...</td>\n    </tr>\n    <tr>\n      <th>4</th>\n      <td>620067692066828288</td>\n      <td>negative</td>\n      <td>Bad Blood may have the absolute worst lyricism...</td>\n    </tr>\n    <tr>\n      <th>5</th>\n      <td>620063502682599425</td>\n      <td>positive</td>\n      <td>No. It's okay. You can go attend Miss USA! Tru...</td>\n    </tr>\n  </tbody>\n</table>\n</div>"
     },
     "execution_count": 5,
     "metadata": {},
     "output_type": "execute_result"
    }
   ],
   "source": [
    "import pandas as pd\n",
    "\n",
    "data =pd.read_csv(\n",
    "    filepath_or_buffer='../data/test.csv',\n",
    "    sep='\\t',\n",
    "    encoding='utf8',\n",
    "    names=[\"ID\", \"Label\", \"Tweet\"]\n",
    "    )\n",
    "\n",
    "data"
   ]
  },
  {
   "cell_type": "code",
   "execution_count": 6,
   "outputs": [
    {
     "data": {
      "text/plain": "                   ID     Label  \\\n0  619950566786113536   neutral   \n1  619971047195045888  negative   \n2  619994586182619136  positive   \n3  620015649151021056   neutral   \n4  620067692066828288  negative   \n5  620063502682599425  positive   \n\n                                               Tweet  \\\n0  Picturehouse's, Pink Floyd's, 'Roger Waters: T...   \n1  If these runway renovations at the airport pre...   \n2  Excited to read \"Go Set a Watchman\" on Tuesday...   \n3  Trump said June 30th that he'd be at Miss USA ...   \n4  Bad Blood may have the absolute worst lyricism...   \n5  No. It's okay. You can go attend Miss USA! Tru...   \n\n                                         Tweet_Token  \n0  [Picturehouse's, ,, Pink, Floyd's, ,, ', Roger...  \n1  [If, runway, renovations, airport, prevent, se...  \n2  [Excited, read, \", Go, Set, Watchman, \", Tuesd...  \n3  [Trump, said, June, 30th, he'd, Miss, USA, pag...  \n4  [Bad, Blood, may, absolute, worst, lyricism, I...  \n5  [No, ., It's, okay, ., You, go, attend, Miss, ...  ",
      "text/html": "<div>\n<style scoped>\n    .dataframe tbody tr th:only-of-type {\n        vertical-align: middle;\n    }\n\n    .dataframe tbody tr th {\n        vertical-align: top;\n    }\n\n    .dataframe thead th {\n        text-align: right;\n    }\n</style>\n<table border=\"1\" class=\"dataframe\">\n  <thead>\n    <tr style=\"text-align: right;\">\n      <th></th>\n      <th>ID</th>\n      <th>Label</th>\n      <th>Tweet</th>\n      <th>Tweet_Token</th>\n    </tr>\n  </thead>\n  <tbody>\n    <tr>\n      <th>0</th>\n      <td>619950566786113536</td>\n      <td>neutral</td>\n      <td>Picturehouse's, Pink Floyd's, 'Roger Waters: T...</td>\n      <td>[Picturehouse's, ,, Pink, Floyd's, ,, ', Roger...</td>\n    </tr>\n    <tr>\n      <th>1</th>\n      <td>619971047195045888</td>\n      <td>negative</td>\n      <td>If these runway renovations at the airport pre...</td>\n      <td>[If, runway, renovations, airport, prevent, se...</td>\n    </tr>\n    <tr>\n      <th>2</th>\n      <td>619994586182619136</td>\n      <td>positive</td>\n      <td>Excited to read \"Go Set a Watchman\" on Tuesday...</td>\n      <td>[Excited, read, \", Go, Set, Watchman, \", Tuesd...</td>\n    </tr>\n    <tr>\n      <th>3</th>\n      <td>620015649151021056</td>\n      <td>neutral</td>\n      <td>Trump said June 30th that he'd be at Miss USA ...</td>\n      <td>[Trump, said, June, 30th, he'd, Miss, USA, pag...</td>\n    </tr>\n    <tr>\n      <th>4</th>\n      <td>620067692066828288</td>\n      <td>negative</td>\n      <td>Bad Blood may have the absolute worst lyricism...</td>\n      <td>[Bad, Blood, may, absolute, worst, lyricism, I...</td>\n    </tr>\n    <tr>\n      <th>5</th>\n      <td>620063502682599425</td>\n      <td>positive</td>\n      <td>No. It's okay. You can go attend Miss USA! Tru...</td>\n      <td>[No, ., It's, okay, ., You, go, attend, Miss, ...</td>\n    </tr>\n  </tbody>\n</table>\n</div>"
     },
     "execution_count": 6,
     "metadata": {},
     "output_type": "execute_result"
    }
   ],
   "source": [
    "from nltk.corpus import wordnet, stopwords\n",
    "from nltk.tokenize import TweetTokenizer\n",
    "\n",
    "tk = TweetTokenizer()\n",
    "stop_words = set(stopwords.words('english'))\n",
    "\n",
    "def token_pipeline(tweet):\n",
    "    tweet_tokens = tk.tokenize(tweet)\n",
    "    tweet_token_without_stopwords = list(filter(lambda token: token not in stop_words, tweet_tokens))\n",
    "    return tweet_token_without_stopwords\n",
    "\n",
    "data[\"Tweet_Token\"] = data[\"Tweet\"].apply(token_pipeline)\n",
    "\n",
    "data"
   ],
   "metadata": {
    "collapsed": false
   }
  },
  {
   "cell_type": "code",
   "execution_count": 7,
   "outputs": [
    {
     "data": {
      "text/plain": "                                           synthetic  \\\n0  Picturehouse's , ping Floyd's , ' Roger Waters...   \n1  If track refurbishment aerodrome keep visualiz...   \n2  commove translate \" exit circle watchman \" Tue...   \n3  scoop read June 30th he'd young_woman America ...   \n4  regretful blood_line Crataegus_laevigata right...   \n5  no_more . It's approve . You snuff_it look ove...   \n\n                                               Tweet  \n0  Picturehouse's, Pink Floyd's, 'Roger Waters: T...  \n1  If these runway renovations at the airport pre...  \n2  Excited to read \"Go Set a Watchman\" on Tuesday...  \n3  Trump said June 30th that he'd be at Miss USA ...  \n4  Bad Blood may have the absolute worst lyricism...  \n5  No. It's okay. You can go attend Miss USA! Tru...  ",
      "text/html": "<div>\n<style scoped>\n    .dataframe tbody tr th:only-of-type {\n        vertical-align: middle;\n    }\n\n    .dataframe tbody tr th {\n        vertical-align: top;\n    }\n\n    .dataframe thead th {\n        text-align: right;\n    }\n</style>\n<table border=\"1\" class=\"dataframe\">\n  <thead>\n    <tr style=\"text-align: right;\">\n      <th></th>\n      <th>synthetic</th>\n      <th>Tweet</th>\n    </tr>\n  </thead>\n  <tbody>\n    <tr>\n      <th>0</th>\n      <td>Picturehouse's , ping Floyd's , ' Roger Waters...</td>\n      <td>Picturehouse's, Pink Floyd's, 'Roger Waters: T...</td>\n    </tr>\n    <tr>\n      <th>1</th>\n      <td>If track refurbishment aerodrome keep visualiz...</td>\n      <td>If these runway renovations at the airport pre...</td>\n    </tr>\n    <tr>\n      <th>2</th>\n      <td>commove translate \" exit circle watchman \" Tue...</td>\n      <td>Excited to read \"Go Set a Watchman\" on Tuesday...</td>\n    </tr>\n    <tr>\n      <th>3</th>\n      <td>scoop read June 30th he'd young_woman America ...</td>\n      <td>Trump said June 30th that he'd be at Miss USA ...</td>\n    </tr>\n    <tr>\n      <th>4</th>\n      <td>regretful blood_line Crataegus_laevigata right...</td>\n      <td>Bad Blood may have the absolute worst lyricism...</td>\n    </tr>\n    <tr>\n      <th>5</th>\n      <td>no_more . It's approve . You snuff_it look ove...</td>\n      <td>No. It's okay. You can go attend Miss USA! Tru...</td>\n    </tr>\n  </tbody>\n</table>\n</div>"
     },
     "execution_count": 7,
     "metadata": {},
     "output_type": "execute_result"
    }
   ],
   "source": [
    "import random\n",
    "\n",
    "def find_synonyms(tweet):\n",
    "    tweet_synonyms = []\n",
    "    for token in tweet:\n",
    "        word_synonyms=[]\n",
    "        for word_synonym in wordnet.synsets(token):\n",
    "            for word_lemma in word_synonym.lemmas():\n",
    "                word_synonyms.append(word_lemma.name())\n",
    "        if word_synonyms:\n",
    "            tweet_synonyms.append(random.choice(list(set(word_synonyms))))\n",
    "        else:\n",
    "            tweet_synonyms.append(token)\n",
    "\n",
    "    return tweet_synonyms\n",
    "\n",
    "data[\"synthetic\"] = data[\"Tweet_Token\"].apply(find_synonyms)\n",
    "data[\"synthetic\"] = data[\"synthetic\"].apply(\" \".join)\n",
    "data[[\"synthetic\", \"Tweet\"]]"
   ],
   "metadata": {
    "collapsed": false
   }
  },
  {
   "cell_type": "code",
   "execution_count": 20,
   "outputs": [],
   "source": [],
   "metadata": {
    "collapsed": false
   }
  }
 ],
 "metadata": {
  "kernelspec": {
   "display_name": "Python 3",
   "language": "python",
   "name": "python3"
  },
  "language_info": {
   "codemirror_mode": {
    "name": "ipython",
    "version": 2
   },
   "file_extension": ".py",
   "mimetype": "text/x-python",
   "name": "python",
   "nbconvert_exporter": "python",
   "pygments_lexer": "ipython2",
   "version": "2.7.6"
  }
 },
 "nbformat": 4,
 "nbformat_minor": 0
}
