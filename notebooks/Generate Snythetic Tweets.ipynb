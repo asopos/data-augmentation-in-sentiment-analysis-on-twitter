{
 "cells": [
  {
   "cell_type": "code",
   "execution_count": null,
   "metadata": {
    "collapsed": true
   },
   "outputs": [],
   "source": [
    "import pandas as pd\n",
    "\n",
    "data =pd.read_csv(\n",
    "    filepath_or_buffer='../data/test.csv',\n",
    "    sep='\\t',\n",
    "    encoding='utf8',\n",
    "    names=[\"ID\", \"Label\", \"Tweet\"]\n",
    "    )\n",
    "\n",
    "data"
   ]
  },
  {
   "cell_type": "code",
   "execution_count": null,
   "outputs": [],
   "source": [
    "from nltk.corpus import wordnet, stopwords\n",
    "from nltk.tokenize import TweetTokenizer\n",
    "\n",
    "tk = TweetTokenizer()\n",
    "stop_words = set(stopwords.words('english'))\n",
    "\n",
    "def token_pipeline(tweet):\n",
    "    tweet_tokens = tk.tokenize(tweet)\n",
    "    tweet_token_without_stopwords = list(filter(lambda token: token not in stop_words, tweet_tokens))\n",
    "    return tweet_token_without_stopwords\n",
    "\n",
    "data[\"Tweet_Token\"] = data[\"Tweet\"].apply(token_pipeline)\n",
    "\n",
    "data"
   ],
   "metadata": {
    "collapsed": false
   }
  },
  {
   "cell_type": "code",
   "execution_count": null,
   "outputs": [],
   "source": [
    "import random\n",
    "\n",
    "def find_synonyms(tweet):\n",
    "    tweet_synonyms = []\n",
    "    for token in tweet:\n",
    "        word_synonyms=[]\n",
    "        for word_synonym in wordnet.synsets(token):\n",
    "            for word_lemma in word_synonym.lemmas():\n",
    "                word_synonyms.append(word_lemma.name())\n",
    "        if word_synonyms:\n",
    "            tweet_synonyms.append(random.choice(list(set(word_synonyms))))\n",
    "        else:\n",
    "            tweet_synonyms.append(token)\n",
    "\n",
    "    return tweet_synonyms\n",
    "\n",
    "for count in range(10):\n",
    "    data[f'synthetic {count}'] = data[\"Tweet_Token\"].apply(find_synonyms)\n",
    "    data[f'synthetic {count}'] = data[f'synthetic {count}'].apply(\" \".join)"
   ],
   "metadata": {
    "collapsed": false
   }
  }
 ],
 "metadata": {
  "kernelspec": {
   "display_name": "Python 3",
   "language": "python",
   "name": "python3"
  },
  "language_info": {
   "codemirror_mode": {
    "name": "ipython",
    "version": 2
   },
   "file_extension": ".py",
   "mimetype": "text/x-python",
   "name": "python",
   "nbconvert_exporter": "python",
   "pygments_lexer": "ipython2",
   "version": "2.7.6"
  }
 },
 "nbformat": 4,
 "nbformat_minor": 0
}
